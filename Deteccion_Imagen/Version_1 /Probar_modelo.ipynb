{
  "nbformat": 4,
  "nbformat_minor": 0,
  "metadata": {
    "colab": {
      "provenance": [],
      "authorship_tag": "ABX9TyOsukpCHyg9bnt6WlHNVlPi",
      "include_colab_link": true
    },
    "kernelspec": {
      "name": "python3",
      "display_name": "Python 3"
    },
    "language_info": {
      "name": "python"
    }
  },
  "cells": [
    {
      "cell_type": "markdown",
      "metadata": {
        "id": "view-in-github",
        "colab_type": "text"
      },
      "source": [
        "<a href=\"https://colab.research.google.com/github/FranTr64/Creacion_IAs/blob/main/Deteccion_Imagen/Version_1%20/Probar_modelo.ipynb\" target=\"_parent\"><img src=\"https://colab.research.google.com/assets/colab-badge.svg\" alt=\"Open In Colab\"/></a>"
      ]
    },
    {
      "cell_type": "markdown",
      "source": [
        "En este collab podremos hacer las pruebas del modelo.\n",
        "Para poder usarlo, primeramente se tendrá que descargar y guardar en una carpeta (dentro de la nube de collab) bajo el nombre de \"modelo\", y dentro de esa carpeta, el propio modelo sin cambiar el nombre."
      ],
      "metadata": {
        "id": "kOs6xX504og6"
      }
    },
    {
      "cell_type": "code",
      "execution_count": 7,
      "metadata": {
        "id": "hrHmELU4k2lF",
        "colab": {
          "base_uri": "https://localhost:8080/"
        },
        "outputId": "38e2d2a2-5f50-4806-91c2-434d181cc0ce"
      },
      "outputs": [
        {
          "output_type": "stream",
          "name": "stderr",
          "text": [
            "WARNING:absl:Compiled the loaded model, but the compiled metrics have yet to be built. `model.compile_metrics` will be empty until you train or evaluate the model.\n"
          ]
        }
      ],
      "source": [
        "from tensorflow.keras.models import load_model\n",
        "modelo = load_model(\"/content/modelo/modelo_v1.h5\")"
      ]
    },
    {
      "cell_type": "markdown",
      "source": [
        "Usamos un diccionario para traducir el resultado."
      ],
      "metadata": {
        "id": "8ArmawNL459E"
      }
    },
    {
      "cell_type": "code",
      "source": [
        "diccionario = {\n",
        "    0: \"Límite de velocidad de 20 km/h\",\n",
        "    1: \"Límite de velocidad de 30 km/h\",\n",
        "    2: \"Límite de velocidad de 50 km/h\",\n",
        "    3: \"Límite de velocidad de 60 km/h\",\n",
        "    4: \"Límite de velocidad de 70 km/h\",\n",
        "    5: \"Límite de velocidad de 80 km/h\",\n",
        "    6: \"Fin de la limitación de velocidad de 60 km/h\",\n",
        "    7: \"Límite de velocidad de 100 km/h\",\n",
        "    8: \"Límite de velocidad de 120 km/h\",\n",
        "    9: \"Adelantamiento prohibido\",\n",
        "    10: \"Adelantamiento prohibido para camiones\",\n",
        "    11: \"Intersección con prioridad\",\n",
        "    12: \"Calzada con prioridad\",\n",
        "    13: \"Ceda el paso\",\n",
        "    14: \"Stop\",\n",
        "    15: \"Circulación prohibida\",\n",
        "    16: \"Entrada prohibida a vehículos destinados al transporte de mercancías\",\n",
        "    17: \"Entrada prohibida\",\n",
        "    18: \"Peligro\",\n",
        "    19: \"Curva peligrosa hacia la izquierda\",\n",
        "    20: \"Curva peligrosa hacia la derecha\",\n",
        "    21: \"Curvas peligrosas hacia la izquierda\",\n",
        "    22: \"Perfil irregular.\",\n",
        "    23: \"Pavimento deslizante\",\n",
        "    24: \"Estrechamiento de calzada por la derecha\",\n",
        "    25: \"Obras\",\n",
        "    26: \"Semáforos\",\n",
        "    27: \"Paso para peatones\",\n",
        "    28: \"Niños\",\n",
        "    29: \"Ciclistas\",\n",
        "    30: \"Presencia de hielo o nieve\",\n",
        "    31: \"Paso de animales en libertad\",\n",
        "    32: \"Fin de prohibiciones\",\n",
        "    33: \"Sentido obligatorio derecha\",\n",
        "    34: \"Sentido obligatorio izquierda\",\n",
        "    35: \"Sentido obligatorio enfrente\",\n",
        "    36: \"Únicas direcciones y sentidos permitidos enfrente y derecha\",\n",
        "    37: \"Únicas direcciones y sentidos permitidos enfrente y izquierda\",\n",
        "    38: \"Paso obligatorio derecha\",\n",
        "    39: \"Paso obligatorio izquierda\",\n",
        "    40: \"Sentido obligatorio en glorieta\",\n",
        "    41: \"Fin de la prohibición de adelantamiento\",\n",
        "    42: \"Fin de la prohibición de adelantamiento para camiones\"\n",
        "}"
      ],
      "metadata": {
        "id": "NkF0lMZ24lES"
      },
      "execution_count": 11,
      "outputs": []
    },
    {
      "cell_type": "markdown",
      "source": [
        "Aquí podremos empezar a hacer las pruebas.\n",
        "Primeramente tendremos que guardar todas las imagenes que queramos probar en una carpeta nueva llamada \"imagenes\". Con eso, ya podremos probar el modelo."
      ],
      "metadata": {
        "id": "DcFKAofe4-BO"
      }
    },
    {
      "cell_type": "code",
      "source": [
        "from PIL import Image\n",
        "import numpy as np\n",
        "import os\n",
        "size = 64\n",
        "\n",
        "image_path = \"/content/imagenes\"\n",
        "for i in os.listdir(image_path):\n",
        "  pathy = image_path + \"/\" + i\n",
        "  img = Image.open(pathy).convert(\"L\")\n",
        "  img = img.resize((size,size))\n",
        "  img = np.array(img)/255.0\n",
        "  img = np.expand_dims(img, axis=0)\n",
        "  prediction = modelo.predict(img)\n",
        "  clase_predicted = np.argmax(prediction)\n",
        "  print(f\"Clase predicha con numero: {clase_predicted}, que se traduciría a: {diccionario[clase_predicted]}, nombre: {i}.\")"
      ],
      "metadata": {
        "colab": {
          "base_uri": "https://localhost:8080/"
        },
        "id": "LEF2nVlH2nmd",
        "outputId": "f8aa6ac0-8646-4871-f0a0-02737aa97ef1"
      },
      "execution_count": 12,
      "outputs": [
        {
          "output_type": "stream",
          "name": "stdout",
          "text": [
            "\u001b[1m1/1\u001b[0m \u001b[32m━━━━━━━━━━━━━━━━━━━━\u001b[0m\u001b[37m\u001b[0m \u001b[1m0s\u001b[0m 39ms/step\n",
            "Clase predicha con numero: 19, que se traduciría a: Curva peligrosa hacia la izquierda, nombre: curba_peligrosa_izquierda.jpg.\n"
          ]
        }
      ]
    }
  ]
}